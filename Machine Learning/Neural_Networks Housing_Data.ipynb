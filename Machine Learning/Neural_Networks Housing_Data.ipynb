{
  "nbformat": 4,
  "nbformat_minor": 0,
  "metadata": {
    "colab": {
      "name": "housingdata.ipynb",
      "provenance": []
    },
    "kernelspec": {
      "name": "python3",
      "display_name": "Python 3"
    }
  },
  "cells": [
    {
      "cell_type": "code",
      "metadata": {
        "id": "QLVjd1jAZ8c0",
        "colab_type": "code",
        "colab": {}
      },
      "source": [
        "import numpy as np\n",
        "import pandas as pd\n",
        "import matplotlib.pyplot as plt\n",
        "import seaborn as sns"
      ],
      "execution_count": 0,
      "outputs": []
    },
    {
      "cell_type": "code",
      "metadata": {
        "id": "kYiQkyU_aCPX",
        "colab_type": "code",
        "colab": {
          "base_uri": "https://localhost:8080/",
          "height": 204
        },
        "outputId": "e3a67552-ff9d-497e-da6a-41ecbe04e0b5"
      },
      "source": [
        "data = pd.read_csv('housingdata.csv')\n",
        "data.head()"
      ],
      "execution_count": 3,
      "outputs": [
        {
          "output_type": "execute_result",
          "data": {
            "text/html": [
              "<div>\n",
              "<style scoped>\n",
              "    .dataframe tbody tr th:only-of-type {\n",
              "        vertical-align: middle;\n",
              "    }\n",
              "\n",
              "    .dataframe tbody tr th {\n",
              "        vertical-align: top;\n",
              "    }\n",
              "\n",
              "    .dataframe thead th {\n",
              "        text-align: right;\n",
              "    }\n",
              "</style>\n",
              "<table border=\"1\" class=\"dataframe\">\n",
              "  <thead>\n",
              "    <tr style=\"text-align: right;\">\n",
              "      <th></th>\n",
              "      <th>0.00632</th>\n",
              "      <th>18</th>\n",
              "      <th>2.31</th>\n",
              "      <th>0</th>\n",
              "      <th>0.538</th>\n",
              "      <th>6.575</th>\n",
              "      <th>65.2</th>\n",
              "      <th>4.09</th>\n",
              "      <th>1</th>\n",
              "      <th>296</th>\n",
              "      <th>15.3</th>\n",
              "      <th>396.9</th>\n",
              "      <th>4.98</th>\n",
              "      <th>24</th>\n",
              "    </tr>\n",
              "  </thead>\n",
              "  <tbody>\n",
              "    <tr>\n",
              "      <th>0</th>\n",
              "      <td>0.02731</td>\n",
              "      <td>0.0</td>\n",
              "      <td>7.07</td>\n",
              "      <td>0</td>\n",
              "      <td>0.469</td>\n",
              "      <td>6.421</td>\n",
              "      <td>78.9</td>\n",
              "      <td>4.9671</td>\n",
              "      <td>2</td>\n",
              "      <td>242</td>\n",
              "      <td>17.8</td>\n",
              "      <td>396.90</td>\n",
              "      <td>9.14</td>\n",
              "      <td>21.6</td>\n",
              "    </tr>\n",
              "    <tr>\n",
              "      <th>1</th>\n",
              "      <td>0.02729</td>\n",
              "      <td>0.0</td>\n",
              "      <td>7.07</td>\n",
              "      <td>0</td>\n",
              "      <td>0.469</td>\n",
              "      <td>7.185</td>\n",
              "      <td>61.1</td>\n",
              "      <td>4.9671</td>\n",
              "      <td>2</td>\n",
              "      <td>242</td>\n",
              "      <td>17.8</td>\n",
              "      <td>392.83</td>\n",
              "      <td>4.03</td>\n",
              "      <td>34.7</td>\n",
              "    </tr>\n",
              "    <tr>\n",
              "      <th>2</th>\n",
              "      <td>0.03237</td>\n",
              "      <td>0.0</td>\n",
              "      <td>2.18</td>\n",
              "      <td>0</td>\n",
              "      <td>0.458</td>\n",
              "      <td>6.998</td>\n",
              "      <td>45.8</td>\n",
              "      <td>6.0622</td>\n",
              "      <td>3</td>\n",
              "      <td>222</td>\n",
              "      <td>18.7</td>\n",
              "      <td>394.63</td>\n",
              "      <td>2.94</td>\n",
              "      <td>33.4</td>\n",
              "    </tr>\n",
              "    <tr>\n",
              "      <th>3</th>\n",
              "      <td>0.06905</td>\n",
              "      <td>0.0</td>\n",
              "      <td>2.18</td>\n",
              "      <td>0</td>\n",
              "      <td>0.458</td>\n",
              "      <td>7.147</td>\n",
              "      <td>54.2</td>\n",
              "      <td>6.0622</td>\n",
              "      <td>3</td>\n",
              "      <td>222</td>\n",
              "      <td>18.7</td>\n",
              "      <td>396.90</td>\n",
              "      <td>5.33</td>\n",
              "      <td>36.2</td>\n",
              "    </tr>\n",
              "    <tr>\n",
              "      <th>4</th>\n",
              "      <td>0.02985</td>\n",
              "      <td>0.0</td>\n",
              "      <td>2.18</td>\n",
              "      <td>0</td>\n",
              "      <td>0.458</td>\n",
              "      <td>6.430</td>\n",
              "      <td>58.7</td>\n",
              "      <td>6.0622</td>\n",
              "      <td>3</td>\n",
              "      <td>222</td>\n",
              "      <td>18.7</td>\n",
              "      <td>394.12</td>\n",
              "      <td>5.21</td>\n",
              "      <td>28.7</td>\n",
              "    </tr>\n",
              "  </tbody>\n",
              "</table>\n",
              "</div>"
            ],
            "text/plain": [
              "   0.00632   18  2.31  0  0.538  6.575  ...  1  296  15.3   396.9  4.98    24\n",
              "0  0.02731  0.0  7.07  0  0.469  6.421  ...  2  242  17.8  396.90  9.14  21.6\n",
              "1  0.02729  0.0  7.07  0  0.469  7.185  ...  2  242  17.8  392.83  4.03  34.7\n",
              "2  0.03237  0.0  2.18  0  0.458  6.998  ...  3  222  18.7  394.63  2.94  33.4\n",
              "3  0.06905  0.0  2.18  0  0.458  7.147  ...  3  222  18.7  396.90  5.33  36.2\n",
              "4  0.02985  0.0  2.18  0  0.458  6.430  ...  3  222  18.7  394.12  5.21  28.7\n",
              "\n",
              "[5 rows x 14 columns]"
            ]
          },
          "metadata": {
            "tags": []
          },
          "execution_count": 3
        }
      ]
    },
    {
      "cell_type": "code",
      "metadata": {
        "id": "TQa_iVFVaUkq",
        "colab_type": "code",
        "colab": {
          "base_uri": "https://localhost:8080/",
          "height": 340
        },
        "outputId": "e13cb5e7-e34d-48de-90a3-eaffaa1879f0"
      },
      "source": [
        "data.info()"
      ],
      "execution_count": 4,
      "outputs": [
        {
          "output_type": "stream",
          "text": [
            "<class 'pandas.core.frame.DataFrame'>\n",
            "RangeIndex: 505 entries, 0 to 504\n",
            "Data columns (total 14 columns):\n",
            "0.00632    505 non-null float64\n",
            "18         505 non-null float64\n",
            "2.31       505 non-null float64\n",
            "0          505 non-null int64\n",
            "0.538      505 non-null float64\n",
            "6.575      505 non-null float64\n",
            "65.2       505 non-null float64\n",
            "4.09       505 non-null float64\n",
            "1          505 non-null int64\n",
            "296        505 non-null int64\n",
            "15.3       505 non-null float64\n",
            "396.9      505 non-null float64\n",
            "4.98       505 non-null float64\n",
            "24         505 non-null float64\n",
            "dtypes: float64(11), int64(3)\n",
            "memory usage: 55.3 KB\n"
          ],
          "name": "stdout"
        }
      ]
    },
    {
      "cell_type": "code",
      "metadata": {
        "id": "QedFcO2Dh7xK",
        "colab_type": "code",
        "colab": {}
      },
      "source": [
        "x=data.drop('24',axis=1)\n",
        "y=data['24']"
      ],
      "execution_count": 0,
      "outputs": []
    },
    {
      "cell_type": "code",
      "metadata": {
        "id": "1MjfY7JaiflP",
        "colab_type": "code",
        "colab": {}
      },
      "source": [
        "from sklearn.model_selection import train_test_split\n",
        "x_train, x_test, y_train, y_test = train_test_split(x, y, test_size = 0.2, random_state = 0)"
      ],
      "execution_count": 0,
      "outputs": []
    },
    {
      "cell_type": "code",
      "metadata": {
        "id": "A_xZ0Jk-ih_L",
        "colab_type": "code",
        "colab": {}
      },
      "source": [
        "from sklearn.preprocessing import StandardScaler\n",
        "sc = StandardScaler()\n",
        "x_train = sc.fit_transform(x_train)\n",
        "x_test = sc.transform(x_test)"
      ],
      "execution_count": 0,
      "outputs": []
    },
    {
      "cell_type": "code",
      "metadata": {
        "id": "9PpoGHQpikOT",
        "colab_type": "code",
        "colab": {
          "base_uri": "https://localhost:8080/",
          "height": 34
        },
        "outputId": "1271fd67-7dab-4187-b312-1da60e3b53f6"
      },
      "source": [
        "import keras\n",
        "from keras.models import Sequential\n",
        "from keras.layers import Dense"
      ],
      "execution_count": 8,
      "outputs": [
        {
          "output_type": "stream",
          "text": [
            "Using TensorFlow backend.\n"
          ],
          "name": "stderr"
        }
      ]
    },
    {
      "cell_type": "code",
      "metadata": {
        "id": "l9a6EEogimCk",
        "colab_type": "code",
        "colab": {}
      },
      "source": [
        "classifier = Sequential()\n",
        "classifier.add(Dense(units = 7, kernel_initializer = 'normal', activation = 'relu', input_dim = 13))\n",
        "classifier.add(Dense(units = 7, kernel_initializer = 'uniform', activation = 'relu'))\n",
        "classifier.add(Dense(units = 1, kernel_initializer = 'normal', activation = 'linear'))\n",
        "classifier.compile(optimizer = 'adam', loss = 'mean_squared_error', metrics = ['mean_squared_error'])"
      ],
      "execution_count": 0,
      "outputs": []
    },
    {
      "cell_type": "code",
      "metadata": {
        "id": "rcEeR_seiy8B",
        "colab_type": "code",
        "colab": {
          "base_uri": "https://localhost:8080/",
          "height": 1000
        },
        "outputId": "48a935b3-87b5-4a05-a1bd-3d8dcbee8331"
      },
      "source": [
        "classifier.fit(x_train, y_train, batch_size = 10, epochs = 100)"
      ],
      "execution_count": 30,
      "outputs": [
        {
          "output_type": "stream",
          "text": [
            "Epoch 1/100\n",
            "404/404 [==============================] - 0s 770us/step - loss: 599.2219 - mean_squared_error: 599.2219\n",
            "Epoch 2/100\n",
            "404/404 [==============================] - 0s 129us/step - loss: 593.1649 - mean_squared_error: 593.1649\n",
            "Epoch 3/100\n",
            "404/404 [==============================] - 0s 109us/step - loss: 574.8342 - mean_squared_error: 574.8342\n",
            "Epoch 4/100\n",
            "404/404 [==============================] - 0s 118us/step - loss: 532.9849 - mean_squared_error: 532.9849\n",
            "Epoch 5/100\n",
            "404/404 [==============================] - 0s 116us/step - loss: 459.5649 - mean_squared_error: 459.5649\n",
            "Epoch 6/100\n",
            "404/404 [==============================] - 0s 118us/step - loss: 361.7493 - mean_squared_error: 361.7493\n",
            "Epoch 7/100\n",
            "404/404 [==============================] - 0s 114us/step - loss: 256.3771 - mean_squared_error: 256.3771\n",
            "Epoch 8/100\n",
            "404/404 [==============================] - 0s 120us/step - loss: 167.1250 - mean_squared_error: 167.1250\n",
            "Epoch 9/100\n",
            "404/404 [==============================] - 0s 172us/step - loss: 111.5246 - mean_squared_error: 111.5246\n",
            "Epoch 10/100\n",
            "404/404 [==============================] - 0s 148us/step - loss: 82.7979 - mean_squared_error: 82.7979\n",
            "Epoch 11/100\n",
            "404/404 [==============================] - 0s 125us/step - loss: 67.2447 - mean_squared_error: 67.2447\n",
            "Epoch 12/100\n",
            "404/404 [==============================] - 0s 122us/step - loss: 57.7540 - mean_squared_error: 57.7540\n",
            "Epoch 13/100\n",
            "404/404 [==============================] - 0s 157us/step - loss: 50.5086 - mean_squared_error: 50.5086\n",
            "Epoch 14/100\n",
            "404/404 [==============================] - 0s 121us/step - loss: 45.1430 - mean_squared_error: 45.1430\n",
            "Epoch 15/100\n",
            "404/404 [==============================] - 0s 107us/step - loss: 41.1328 - mean_squared_error: 41.1328\n",
            "Epoch 16/100\n",
            "404/404 [==============================] - 0s 119us/step - loss: 38.0222 - mean_squared_error: 38.0222\n",
            "Epoch 17/100\n",
            "404/404 [==============================] - 0s 119us/step - loss: 35.8818 - mean_squared_error: 35.8818\n",
            "Epoch 18/100\n",
            "404/404 [==============================] - 0s 116us/step - loss: 34.2209 - mean_squared_error: 34.2209\n",
            "Epoch 19/100\n",
            "404/404 [==============================] - 0s 116us/step - loss: 32.9739 - mean_squared_error: 32.9739\n",
            "Epoch 20/100\n",
            "404/404 [==============================] - 0s 122us/step - loss: 31.9530 - mean_squared_error: 31.9530\n",
            "Epoch 21/100\n",
            "404/404 [==============================] - 0s 125us/step - loss: 31.0543 - mean_squared_error: 31.0543\n",
            "Epoch 22/100\n",
            "404/404 [==============================] - 0s 119us/step - loss: 30.3584 - mean_squared_error: 30.3584\n",
            "Epoch 23/100\n",
            "404/404 [==============================] - 0s 132us/step - loss: 29.7622 - mean_squared_error: 29.7622\n",
            "Epoch 24/100\n",
            "404/404 [==============================] - 0s 115us/step - loss: 29.2086 - mean_squared_error: 29.2086\n",
            "Epoch 25/100\n",
            "404/404 [==============================] - 0s 123us/step - loss: 28.7288 - mean_squared_error: 28.7288\n",
            "Epoch 26/100\n",
            "404/404 [==============================] - 0s 125us/step - loss: 28.2903 - mean_squared_error: 28.2903\n",
            "Epoch 27/100\n",
            "404/404 [==============================] - 0s 115us/step - loss: 27.8676 - mean_squared_error: 27.8676\n",
            "Epoch 28/100\n",
            "404/404 [==============================] - 0s 118us/step - loss: 27.4123 - mean_squared_error: 27.4123\n",
            "Epoch 29/100\n",
            "404/404 [==============================] - 0s 115us/step - loss: 26.9922 - mean_squared_error: 26.9922\n",
            "Epoch 30/100\n",
            "404/404 [==============================] - 0s 118us/step - loss: 26.6168 - mean_squared_error: 26.6168\n",
            "Epoch 31/100\n",
            "404/404 [==============================] - 0s 128us/step - loss: 26.2906 - mean_squared_error: 26.2906\n",
            "Epoch 32/100\n",
            "404/404 [==============================] - 0s 131us/step - loss: 25.9712 - mean_squared_error: 25.9712\n",
            "Epoch 33/100\n",
            "404/404 [==============================] - 0s 121us/step - loss: 25.5782 - mean_squared_error: 25.5782\n",
            "Epoch 34/100\n",
            "404/404 [==============================] - 0s 113us/step - loss: 25.2325 - mean_squared_error: 25.2325\n",
            "Epoch 35/100\n",
            "404/404 [==============================] - 0s 113us/step - loss: 24.8891 - mean_squared_error: 24.8891\n",
            "Epoch 36/100\n",
            "404/404 [==============================] - 0s 112us/step - loss: 24.6642 - mean_squared_error: 24.6642\n",
            "Epoch 37/100\n",
            "404/404 [==============================] - 0s 126us/step - loss: 24.3105 - mean_squared_error: 24.3105\n",
            "Epoch 38/100\n",
            "404/404 [==============================] - 0s 127us/step - loss: 24.0502 - mean_squared_error: 24.0502\n",
            "Epoch 39/100\n",
            "404/404 [==============================] - 0s 116us/step - loss: 23.7566 - mean_squared_error: 23.7566\n",
            "Epoch 40/100\n",
            "404/404 [==============================] - 0s 129us/step - loss: 23.4299 - mean_squared_error: 23.4299\n",
            "Epoch 41/100\n",
            "404/404 [==============================] - 0s 133us/step - loss: 23.0813 - mean_squared_error: 23.0813\n",
            "Epoch 42/100\n",
            "404/404 [==============================] - 0s 124us/step - loss: 22.9553 - mean_squared_error: 22.9553\n",
            "Epoch 43/100\n",
            "404/404 [==============================] - 0s 118us/step - loss: 22.5714 - mean_squared_error: 22.5714\n",
            "Epoch 44/100\n",
            "404/404 [==============================] - 0s 115us/step - loss: 22.3543 - mean_squared_error: 22.3543\n",
            "Epoch 45/100\n",
            "404/404 [==============================] - 0s 126us/step - loss: 22.1114 - mean_squared_error: 22.1114\n",
            "Epoch 46/100\n",
            "404/404 [==============================] - 0s 118us/step - loss: 21.7184 - mean_squared_error: 21.7184\n",
            "Epoch 47/100\n",
            "404/404 [==============================] - 0s 131us/step - loss: 21.4662 - mean_squared_error: 21.4662\n",
            "Epoch 48/100\n",
            "404/404 [==============================] - 0s 122us/step - loss: 21.0786 - mean_squared_error: 21.0786\n",
            "Epoch 49/100\n",
            "404/404 [==============================] - 0s 131us/step - loss: 20.7937 - mean_squared_error: 20.7937\n",
            "Epoch 50/100\n",
            "404/404 [==============================] - 0s 139us/step - loss: 20.4821 - mean_squared_error: 20.4821\n",
            "Epoch 51/100\n",
            "404/404 [==============================] - 0s 124us/step - loss: 20.2875 - mean_squared_error: 20.2875\n",
            "Epoch 52/100\n",
            "404/404 [==============================] - 0s 121us/step - loss: 19.8023 - mean_squared_error: 19.8023\n",
            "Epoch 53/100\n",
            "404/404 [==============================] - 0s 127us/step - loss: 19.4179 - mean_squared_error: 19.4179\n",
            "Epoch 54/100\n",
            "404/404 [==============================] - 0s 122us/step - loss: 19.2058 - mean_squared_error: 19.2058\n",
            "Epoch 55/100\n",
            "404/404 [==============================] - 0s 111us/step - loss: 18.8536 - mean_squared_error: 18.8536\n",
            "Epoch 56/100\n",
            "404/404 [==============================] - 0s 112us/step - loss: 18.6307 - mean_squared_error: 18.6307\n",
            "Epoch 57/100\n",
            "404/404 [==============================] - 0s 107us/step - loss: 18.3791 - mean_squared_error: 18.3791\n",
            "Epoch 58/100\n",
            "404/404 [==============================] - 0s 111us/step - loss: 18.1536 - mean_squared_error: 18.1536\n",
            "Epoch 59/100\n",
            "404/404 [==============================] - 0s 114us/step - loss: 17.9055 - mean_squared_error: 17.9055\n",
            "Epoch 60/100\n",
            "404/404 [==============================] - 0s 116us/step - loss: 17.6596 - mean_squared_error: 17.6596\n",
            "Epoch 61/100\n",
            "404/404 [==============================] - 0s 113us/step - loss: 17.4253 - mean_squared_error: 17.4253\n",
            "Epoch 62/100\n",
            "404/404 [==============================] - 0s 105us/step - loss: 17.2334 - mean_squared_error: 17.2334\n",
            "Epoch 63/100\n",
            "404/404 [==============================] - 0s 135us/step - loss: 16.9588 - mean_squared_error: 16.9588\n",
            "Epoch 64/100\n",
            "404/404 [==============================] - 0s 126us/step - loss: 16.8484 - mean_squared_error: 16.8484\n",
            "Epoch 65/100\n",
            "404/404 [==============================] - 0s 117us/step - loss: 16.6567 - mean_squared_error: 16.6567\n",
            "Epoch 66/100\n",
            "404/404 [==============================] - 0s 123us/step - loss: 16.4507 - mean_squared_error: 16.4507\n",
            "Epoch 67/100\n",
            "404/404 [==============================] - 0s 122us/step - loss: 16.2973 - mean_squared_error: 16.2973\n",
            "Epoch 68/100\n",
            "404/404 [==============================] - 0s 127us/step - loss: 16.1825 - mean_squared_error: 16.1825\n",
            "Epoch 69/100\n",
            "404/404 [==============================] - 0s 122us/step - loss: 15.9230 - mean_squared_error: 15.9230\n",
            "Epoch 70/100\n",
            "404/404 [==============================] - 0s 117us/step - loss: 15.7291 - mean_squared_error: 15.7291\n",
            "Epoch 71/100\n",
            "404/404 [==============================] - 0s 139us/step - loss: 15.6752 - mean_squared_error: 15.6752\n",
            "Epoch 72/100\n",
            "404/404 [==============================] - 0s 144us/step - loss: 15.4624 - mean_squared_error: 15.4624\n",
            "Epoch 73/100\n",
            "404/404 [==============================] - 0s 128us/step - loss: 15.2416 - mean_squared_error: 15.2416\n",
            "Epoch 74/100\n",
            "404/404 [==============================] - 0s 132us/step - loss: 15.1411 - mean_squared_error: 15.1411\n",
            "Epoch 75/100\n",
            "404/404 [==============================] - 0s 128us/step - loss: 14.9812 - mean_squared_error: 14.9812\n",
            "Epoch 76/100\n",
            "404/404 [==============================] - 0s 155us/step - loss: 14.8522 - mean_squared_error: 14.8522\n",
            "Epoch 77/100\n",
            "404/404 [==============================] - 0s 144us/step - loss: 14.7143 - mean_squared_error: 14.7143\n",
            "Epoch 78/100\n",
            "404/404 [==============================] - 0s 123us/step - loss: 14.6421 - mean_squared_error: 14.6421\n",
            "Epoch 79/100\n",
            "404/404 [==============================] - 0s 122us/step - loss: 14.4290 - mean_squared_error: 14.4290\n",
            "Epoch 80/100\n",
            "404/404 [==============================] - 0s 119us/step - loss: 14.3053 - mean_squared_error: 14.3053\n",
            "Epoch 81/100\n",
            "404/404 [==============================] - 0s 121us/step - loss: 14.1844 - mean_squared_error: 14.1844\n",
            "Epoch 82/100\n",
            "404/404 [==============================] - 0s 129us/step - loss: 13.9964 - mean_squared_error: 13.9964\n",
            "Epoch 83/100\n",
            "404/404 [==============================] - 0s 117us/step - loss: 13.8525 - mean_squared_error: 13.8525\n",
            "Epoch 84/100\n",
            "404/404 [==============================] - 0s 112us/step - loss: 13.8085 - mean_squared_error: 13.8085\n",
            "Epoch 85/100\n",
            "404/404 [==============================] - 0s 129us/step - loss: 13.6726 - mean_squared_error: 13.6726\n",
            "Epoch 86/100\n",
            "404/404 [==============================] - 0s 112us/step - loss: 13.5541 - mean_squared_error: 13.5541\n",
            "Epoch 87/100\n",
            "404/404 [==============================] - 0s 118us/step - loss: 13.4374 - mean_squared_error: 13.4374\n",
            "Epoch 88/100\n",
            "404/404 [==============================] - 0s 126us/step - loss: 13.3478 - mean_squared_error: 13.3478\n",
            "Epoch 89/100\n",
            "404/404 [==============================] - 0s 117us/step - loss: 13.2237 - mean_squared_error: 13.2237\n",
            "Epoch 90/100\n",
            "404/404 [==============================] - 0s 126us/step - loss: 13.1023 - mean_squared_error: 13.1023\n",
            "Epoch 91/100\n",
            "404/404 [==============================] - 0s 117us/step - loss: 12.9707 - mean_squared_error: 12.9707\n",
            "Epoch 92/100\n",
            "404/404 [==============================] - 0s 115us/step - loss: 12.9308 - mean_squared_error: 12.9308\n",
            "Epoch 93/100\n",
            "404/404 [==============================] - 0s 113us/step - loss: 12.7777 - mean_squared_error: 12.7777\n",
            "Epoch 94/100\n",
            "404/404 [==============================] - 0s 111us/step - loss: 12.6845 - mean_squared_error: 12.6845\n",
            "Epoch 95/100\n",
            "404/404 [==============================] - 0s 130us/step - loss: 12.6412 - mean_squared_error: 12.6412\n",
            "Epoch 96/100\n",
            "404/404 [==============================] - 0s 136us/step - loss: 12.5060 - mean_squared_error: 12.5060\n",
            "Epoch 97/100\n",
            "404/404 [==============================] - 0s 108us/step - loss: 12.4928 - mean_squared_error: 12.4928\n",
            "Epoch 98/100\n",
            "404/404 [==============================] - 0s 126us/step - loss: 12.3647 - mean_squared_error: 12.3647\n",
            "Epoch 99/100\n",
            "404/404 [==============================] - 0s 117us/step - loss: 12.3684 - mean_squared_error: 12.3684\n",
            "Epoch 100/100\n",
            "404/404 [==============================] - 0s 154us/step - loss: 12.2344 - mean_squared_error: 12.2344\n"
          ],
          "name": "stdout"
        },
        {
          "output_type": "execute_result",
          "data": {
            "text/plain": [
              "<keras.callbacks.History at 0x7f22a1759b70>"
            ]
          },
          "metadata": {
            "tags": []
          },
          "execution_count": 30
        }
      ]
    },
    {
      "cell_type": "code",
      "metadata": {
        "id": "p00XFDYti3KK",
        "colab_type": "code",
        "colab": {}
      },
      "source": [
        "y_pred = classifier.predict(x_test)"
      ],
      "execution_count": 0,
      "outputs": []
    },
    {
      "cell_type": "code",
      "metadata": {
        "id": "v3BaTGS6i_IA",
        "colab_type": "code",
        "colab": {
          "base_uri": "https://localhost:8080/",
          "height": 34
        },
        "outputId": "71a0c581-ac7f-407a-ec4d-0f3d0477e0d1"
      },
      "source": [
        "from sklearn.metrics import mean_squared_error\n",
        "mse = mean_squared_error(y_test, y_pred)\n",
        "mse"
      ],
      "execution_count": 32,
      "outputs": [
        {
          "output_type": "execute_result",
          "data": {
            "text/plain": [
              "10.51487122086218"
            ]
          },
          "metadata": {
            "tags": []
          },
          "execution_count": 32
        }
      ]
    },
    {
      "cell_type": "code",
      "metadata": {
        "id": "guRZTYcBjBUs",
        "colab_type": "code",
        "colab": {
          "base_uri": "https://localhost:8080/",
          "height": 34
        },
        "outputId": "739506f4-eb0b-43ea-bac7-73525114f6ad"
      },
      "source": [
        "from sklearn.metrics import r2_score\n",
        "r2score = r2_score(y_test, y_pred)\n",
        "r2score"
      ],
      "execution_count": 33,
      "outputs": [
        {
          "output_type": "execute_result",
          "data": {
            "text/plain": [
              "0.8729835019257239"
            ]
          },
          "metadata": {
            "tags": []
          },
          "execution_count": 33
        }
      ]
    },
    {
      "cell_type": "code",
      "metadata": {
        "id": "I6wmwFymokag",
        "colab_type": "code",
        "colab": {}
      },
      "source": [
        ""
      ],
      "execution_count": 0,
      "outputs": []
    }
  ]
}