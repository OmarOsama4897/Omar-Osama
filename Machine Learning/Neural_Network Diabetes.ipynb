{
 "cells": [
  {
   "cell_type": "code",
   "execution_count": 0,
   "metadata": {
    "colab": {},
    "colab_type": "code",
    "collapsed": true,
    "id": "mTXS69LSYckX"
   },
   "outputs": [],
   "source": [
    "import numpy as np\n",
    "import pandas as pd\n",
    "import matplotlib.pyplot as plt\n",
    "import seaborn as sns"
   ]
  },
  {
   "cell_type": "code",
   "execution_count": 2,
   "metadata": {
    "colab": {
     "base_uri": "https://localhost:8080/",
     "height": 204
    },
    "colab_type": "code",
    "id": "_LF1fk5oY7bt",
    "outputId": "5b2f6510-81d7-4a36-db05-bc681735a95c"
   },
   "outputs": [
    {
     "data": {
      "text/html": [
       "<div>\n",
       "<style scoped>\n",
       "    .dataframe tbody tr th:only-of-type {\n",
       "        vertical-align: middle;\n",
       "    }\n",
       "\n",
       "    .dataframe tbody tr th {\n",
       "        vertical-align: top;\n",
       "    }\n",
       "\n",
       "    .dataframe thead th {\n",
       "        text-align: right;\n",
       "    }\n",
       "</style>\n",
       "<table border=\"1\" class=\"dataframe\">\n",
       "  <thead>\n",
       "    <tr style=\"text-align: right;\">\n",
       "      <th></th>\n",
       "      <th>Pregnancies</th>\n",
       "      <th>Glucose</th>\n",
       "      <th>BloodPressure</th>\n",
       "      <th>SkinThickness</th>\n",
       "      <th>Insulin</th>\n",
       "      <th>BMI</th>\n",
       "      <th>DiabetesPedigreeFunction</th>\n",
       "      <th>Age</th>\n",
       "      <th>Outcome</th>\n",
       "    </tr>\n",
       "  </thead>\n",
       "  <tbody>\n",
       "    <tr>\n",
       "      <th>0</th>\n",
       "      <td>6</td>\n",
       "      <td>148</td>\n",
       "      <td>72</td>\n",
       "      <td>35</td>\n",
       "      <td>0</td>\n",
       "      <td>33.6</td>\n",
       "      <td>0.627</td>\n",
       "      <td>50</td>\n",
       "      <td>1</td>\n",
       "    </tr>\n",
       "    <tr>\n",
       "      <th>1</th>\n",
       "      <td>1</td>\n",
       "      <td>85</td>\n",
       "      <td>66</td>\n",
       "      <td>29</td>\n",
       "      <td>0</td>\n",
       "      <td>26.6</td>\n",
       "      <td>0.351</td>\n",
       "      <td>31</td>\n",
       "      <td>0</td>\n",
       "    </tr>\n",
       "    <tr>\n",
       "      <th>2</th>\n",
       "      <td>8</td>\n",
       "      <td>183</td>\n",
       "      <td>64</td>\n",
       "      <td>0</td>\n",
       "      <td>0</td>\n",
       "      <td>23.3</td>\n",
       "      <td>0.672</td>\n",
       "      <td>32</td>\n",
       "      <td>1</td>\n",
       "    </tr>\n",
       "    <tr>\n",
       "      <th>3</th>\n",
       "      <td>1</td>\n",
       "      <td>89</td>\n",
       "      <td>66</td>\n",
       "      <td>23</td>\n",
       "      <td>94</td>\n",
       "      <td>28.1</td>\n",
       "      <td>0.167</td>\n",
       "      <td>21</td>\n",
       "      <td>0</td>\n",
       "    </tr>\n",
       "    <tr>\n",
       "      <th>4</th>\n",
       "      <td>0</td>\n",
       "      <td>137</td>\n",
       "      <td>40</td>\n",
       "      <td>35</td>\n",
       "      <td>168</td>\n",
       "      <td>43.1</td>\n",
       "      <td>2.288</td>\n",
       "      <td>33</td>\n",
       "      <td>1</td>\n",
       "    </tr>\n",
       "  </tbody>\n",
       "</table>\n",
       "</div>"
      ],
      "text/plain": [
       "   Pregnancies  Glucose  BloodPressure  ...  DiabetesPedigreeFunction  Age  Outcome\n",
       "0            6      148             72  ...                     0.627   50        1\n",
       "1            1       85             66  ...                     0.351   31        0\n",
       "2            8      183             64  ...                     0.672   32        1\n",
       "3            1       89             66  ...                     0.167   21        0\n",
       "4            0      137             40  ...                     2.288   33        1\n",
       "\n",
       "[5 rows x 9 columns]"
      ]
     },
     "execution_count": 2,
     "metadata": {
      "tags": []
     },
     "output_type": "execute_result"
    }
   ],
   "source": [
    "data = pd.read_csv('diabetes.csv')\n",
    "data.head()"
   ]
  },
  {
   "cell_type": "code",
   "execution_count": 3,
   "metadata": {
    "colab": {
     "base_uri": "https://localhost:8080/",
     "height": 255
    },
    "colab_type": "code",
    "id": "qOREdQncZB0h",
    "outputId": "31658c51-b552-445d-ea9e-e579d8fb49d3"
   },
   "outputs": [
    {
     "name": "stdout",
     "output_type": "stream",
     "text": [
      "<class 'pandas.core.frame.DataFrame'>\n",
      "RangeIndex: 768 entries, 0 to 767\n",
      "Data columns (total 9 columns):\n",
      "Pregnancies                 768 non-null int64\n",
      "Glucose                     768 non-null int64\n",
      "BloodPressure               768 non-null int64\n",
      "SkinThickness               768 non-null int64\n",
      "Insulin                     768 non-null int64\n",
      "BMI                         768 non-null float64\n",
      "DiabetesPedigreeFunction    768 non-null float64\n",
      "Age                         768 non-null int64\n",
      "Outcome                     768 non-null int64\n",
      "dtypes: float64(2), int64(7)\n",
      "memory usage: 54.1 KB\n"
     ]
    }
   ],
   "source": [
    "data.info()"
   ]
  },
  {
   "cell_type": "code",
   "execution_count": 0,
   "metadata": {
    "colab": {},
    "colab_type": "code",
    "collapsed": true,
    "id": "O5FgB9l9aHlP"
   },
   "outputs": [],
   "source": [
    "x=data.drop('Outcome',axis=1)\n",
    "y=data['Outcome']"
   ]
  },
  {
   "cell_type": "code",
   "execution_count": 0,
   "metadata": {
    "colab": {},
    "colab_type": "code",
    "collapsed": true,
    "id": "bUOaiwlkbrRx"
   },
   "outputs": [],
   "source": [
    "from sklearn.model_selection import train_test_split\n",
    "x_train, x_test, y_train, y_test = train_test_split(x, y, test_size = 0.2, random_state = 0)"
   ]
  },
  {
   "cell_type": "code",
   "execution_count": 0,
   "metadata": {
    "colab": {},
    "colab_type": "code",
    "collapsed": true,
    "id": "o9UCUfXcdgOH"
   },
   "outputs": [],
   "source": [
    "from sklearn.preprocessing import StandardScaler\n",
    "sc = StandardScaler()\n",
    "x_train = sc.fit_transform(x_train)\n",
    "x_test = sc.transform(x_test)"
   ]
  },
  {
   "cell_type": "code",
   "execution_count": 0,
   "metadata": {
    "colab": {},
    "colab_type": "code",
    "collapsed": true,
    "id": "mUKE-qztdy37"
   },
   "outputs": [],
   "source": [
    "import keras\n",
    "from keras.models import Sequential\n",
    "from keras.layers import Dense"
   ]
  },
  {
   "cell_type": "code",
   "execution_count": 11,
   "metadata": {
    "colab": {
     "base_uri": "https://localhost:8080/",
     "height": 258
    },
    "colab_type": "code",
    "id": "b7WoPijPd3lQ",
    "outputId": "62fe94b4-dcbc-4568-a88d-2f1a351142d5"
   },
   "outputs": [
    {
     "name": "stdout",
     "output_type": "stream",
     "text": [
      "WARNING:tensorflow:From /usr/local/lib/python3.6/dist-packages/keras/backend/tensorflow_backend.py:66: The name tf.get_default_graph is deprecated. Please use tf.compat.v1.get_default_graph instead.\n",
      "\n",
      "WARNING:tensorflow:From /usr/local/lib/python3.6/dist-packages/keras/backend/tensorflow_backend.py:541: The name tf.placeholder is deprecated. Please use tf.compat.v1.placeholder instead.\n",
      "\n",
      "WARNING:tensorflow:From /usr/local/lib/python3.6/dist-packages/keras/backend/tensorflow_backend.py:4432: The name tf.random_uniform is deprecated. Please use tf.random.uniform instead.\n",
      "\n",
      "WARNING:tensorflow:From /usr/local/lib/python3.6/dist-packages/keras/optimizers.py:793: The name tf.train.Optimizer is deprecated. Please use tf.compat.v1.train.Optimizer instead.\n",
      "\n",
      "WARNING:tensorflow:From /usr/local/lib/python3.6/dist-packages/keras/backend/tensorflow_backend.py:3657: The name tf.log is deprecated. Please use tf.math.log instead.\n",
      "\n",
      "WARNING:tensorflow:From /usr/local/lib/python3.6/dist-packages/tensorflow/python/ops/nn_impl.py:180: add_dispatch_support.<locals>.wrapper (from tensorflow.python.ops.array_ops) is deprecated and will be removed in a future version.\n",
      "Instructions for updating:\n",
      "Use tf.where in 2.0, which has the same broadcast rule as np.where\n"
     ]
    }
   ],
   "source": [
    "classifier = Sequential()\n",
    "classifier.add(Dense(units = 6, kernel_initializer = 'uniform', activation = 'relu', input_dim = 8))\n",
    "classifier.add(Dense(units = 1, kernel_initializer = 'uniform', activation = 'sigmoid'))\n",
    "classifier.compile(optimizer = 'adam', loss = 'binary_crossentropy', metrics = ['accuracy'])"
   ]
  },
  {
   "cell_type": "code",
   "execution_count": 12,
   "metadata": {
    "colab": {
     "base_uri": "https://localhost:8080/",
     "height": 1000
    },
    "colab_type": "code",
    "id": "fu7ekdpdeMwS",
    "outputId": "045c6bc4-cb0a-44e2-d51c-bbef2d479c07"
   },
   "outputs": [
    {
     "name": "stdout",
     "output_type": "stream",
     "text": [
      "WARNING:tensorflow:From /usr/local/lib/python3.6/dist-packages/keras/backend/tensorflow_backend.py:1033: The name tf.assign_add is deprecated. Please use tf.compat.v1.assign_add instead.\n",
      "\n",
      "Epoch 1/100\n",
      "614/614 [==============================] - 1s 1ms/step - loss: 0.6880 - acc: 0.6254\n",
      "Epoch 2/100\n",
      "614/614 [==============================] - 0s 111us/step - loss: 0.6659 - acc: 0.6401\n",
      "Epoch 3/100\n",
      "614/614 [==============================] - 0s 127us/step - loss: 0.6263 - acc: 0.6401\n",
      "Epoch 4/100\n",
      "614/614 [==============================] - 0s 115us/step - loss: 0.5838 - acc: 0.6792\n",
      "Epoch 5/100\n",
      "614/614 [==============================] - 0s 121us/step - loss: 0.5500 - acc: 0.7573\n",
      "Epoch 6/100\n",
      "614/614 [==============================] - 0s 124us/step - loss: 0.5265 - acc: 0.7606\n",
      "Epoch 7/100\n",
      "614/614 [==============================] - 0s 126us/step - loss: 0.5109 - acc: 0.7557\n",
      "Epoch 8/100\n",
      "614/614 [==============================] - 0s 130us/step - loss: 0.4999 - acc: 0.7622\n",
      "Epoch 9/100\n",
      "614/614 [==============================] - 0s 117us/step - loss: 0.4932 - acc: 0.7606\n",
      "Epoch 10/100\n",
      "614/614 [==============================] - 0s 115us/step - loss: 0.4879 - acc: 0.7671\n",
      "Epoch 11/100\n",
      "614/614 [==============================] - 0s 118us/step - loss: 0.4850 - acc: 0.7687\n",
      "Epoch 12/100\n",
      "614/614 [==============================] - 0s 134us/step - loss: 0.4824 - acc: 0.7655\n",
      "Epoch 13/100\n",
      "614/614 [==============================] - 0s 124us/step - loss: 0.4801 - acc: 0.7720\n",
      "Epoch 14/100\n",
      "614/614 [==============================] - 0s 114us/step - loss: 0.4781 - acc: 0.7720\n",
      "Epoch 15/100\n",
      "614/614 [==============================] - 0s 120us/step - loss: 0.4774 - acc: 0.7720\n",
      "Epoch 16/100\n",
      "614/614 [==============================] - 0s 112us/step - loss: 0.4752 - acc: 0.7704\n",
      "Epoch 17/100\n",
      "614/614 [==============================] - 0s 122us/step - loss: 0.4738 - acc: 0.7720\n",
      "Epoch 18/100\n",
      "614/614 [==============================] - 0s 118us/step - loss: 0.4731 - acc: 0.7736\n",
      "Epoch 19/100\n",
      "614/614 [==============================] - 0s 150us/step - loss: 0.4717 - acc: 0.7720\n",
      "Epoch 20/100\n",
      "614/614 [==============================] - 0s 137us/step - loss: 0.4716 - acc: 0.7720\n",
      "Epoch 21/100\n",
      "614/614 [==============================] - 0s 127us/step - loss: 0.4704 - acc: 0.7736\n",
      "Epoch 22/100\n",
      "614/614 [==============================] - 0s 118us/step - loss: 0.4698 - acc: 0.7687\n",
      "Epoch 23/100\n",
      "614/614 [==============================] - 0s 115us/step - loss: 0.4691 - acc: 0.7785\n",
      "Epoch 24/100\n",
      "614/614 [==============================] - 0s 114us/step - loss: 0.4682 - acc: 0.7752\n",
      "Epoch 25/100\n",
      "614/614 [==============================] - 0s 118us/step - loss: 0.4676 - acc: 0.7834\n",
      "Epoch 26/100\n",
      "614/614 [==============================] - 0s 123us/step - loss: 0.4669 - acc: 0.7769\n",
      "Epoch 27/100\n",
      "614/614 [==============================] - 0s 110us/step - loss: 0.4663 - acc: 0.7785\n",
      "Epoch 28/100\n",
      "614/614 [==============================] - 0s 115us/step - loss: 0.4654 - acc: 0.7801\n",
      "Epoch 29/100\n",
      "614/614 [==============================] - 0s 108us/step - loss: 0.4652 - acc: 0.7801\n",
      "Epoch 30/100\n",
      "614/614 [==============================] - 0s 118us/step - loss: 0.4646 - acc: 0.7801\n",
      "Epoch 31/100\n",
      "614/614 [==============================] - 0s 122us/step - loss: 0.4640 - acc: 0.7801\n",
      "Epoch 32/100\n",
      "614/614 [==============================] - 0s 122us/step - loss: 0.4633 - acc: 0.7769\n",
      "Epoch 33/100\n",
      "614/614 [==============================] - 0s 115us/step - loss: 0.4630 - acc: 0.7769\n",
      "Epoch 34/100\n",
      "614/614 [==============================] - 0s 126us/step - loss: 0.4627 - acc: 0.7785\n",
      "Epoch 35/100\n",
      "614/614 [==============================] - 0s 140us/step - loss: 0.4618 - acc: 0.7785\n",
      "Epoch 36/100\n",
      "614/614 [==============================] - 0s 134us/step - loss: 0.4622 - acc: 0.7785\n",
      "Epoch 37/100\n",
      "614/614 [==============================] - 0s 130us/step - loss: 0.4612 - acc: 0.7752\n",
      "Epoch 38/100\n",
      "614/614 [==============================] - 0s 133us/step - loss: 0.4609 - acc: 0.7801\n",
      "Epoch 39/100\n",
      "614/614 [==============================] - 0s 139us/step - loss: 0.4602 - acc: 0.7785\n",
      "Epoch 40/100\n",
      "614/614 [==============================] - 0s 118us/step - loss: 0.4598 - acc: 0.7785\n",
      "Epoch 41/100\n",
      "614/614 [==============================] - 0s 117us/step - loss: 0.4593 - acc: 0.7785\n",
      "Epoch 42/100\n",
      "614/614 [==============================] - 0s 133us/step - loss: 0.4588 - acc: 0.7785\n",
      "Epoch 43/100\n",
      "614/614 [==============================] - 0s 115us/step - loss: 0.4590 - acc: 0.7834\n",
      "Epoch 44/100\n",
      "614/614 [==============================] - 0s 122us/step - loss: 0.4586 - acc: 0.7769\n",
      "Epoch 45/100\n",
      "614/614 [==============================] - 0s 131us/step - loss: 0.4578 - acc: 0.7769\n",
      "Epoch 46/100\n",
      "614/614 [==============================] - 0s 144us/step - loss: 0.4580 - acc: 0.7785\n",
      "Epoch 47/100\n",
      "614/614 [==============================] - 0s 134us/step - loss: 0.4574 - acc: 0.7818\n",
      "Epoch 48/100\n",
      "614/614 [==============================] - 0s 126us/step - loss: 0.4571 - acc: 0.7785\n",
      "Epoch 49/100\n",
      "614/614 [==============================] - 0s 129us/step - loss: 0.4574 - acc: 0.7752\n",
      "Epoch 50/100\n",
      "614/614 [==============================] - 0s 121us/step - loss: 0.4568 - acc: 0.7801\n",
      "Epoch 51/100\n",
      "614/614 [==============================] - 0s 116us/step - loss: 0.4568 - acc: 0.7834\n",
      "Epoch 52/100\n",
      "614/614 [==============================] - 0s 122us/step - loss: 0.4567 - acc: 0.7801\n",
      "Epoch 53/100\n",
      "614/614 [==============================] - 0s 117us/step - loss: 0.4560 - acc: 0.7818\n",
      "Epoch 54/100\n",
      "614/614 [==============================] - 0s 115us/step - loss: 0.4559 - acc: 0.7818\n",
      "Epoch 55/100\n",
      "614/614 [==============================] - 0s 114us/step - loss: 0.4558 - acc: 0.7818\n",
      "Epoch 56/100\n",
      "614/614 [==============================] - 0s 115us/step - loss: 0.4555 - acc: 0.7834\n",
      "Epoch 57/100\n",
      "614/614 [==============================] - 0s 115us/step - loss: 0.4553 - acc: 0.7801\n",
      "Epoch 58/100\n",
      "614/614 [==============================] - 0s 118us/step - loss: 0.4550 - acc: 0.7834\n",
      "Epoch 59/100\n",
      "614/614 [==============================] - 0s 125us/step - loss: 0.4545 - acc: 0.7834\n",
      "Epoch 60/100\n",
      "614/614 [==============================] - 0s 117us/step - loss: 0.4545 - acc: 0.7834\n",
      "Epoch 61/100\n",
      "614/614 [==============================] - 0s 115us/step - loss: 0.4544 - acc: 0.7801\n",
      "Epoch 62/100\n",
      "614/614 [==============================] - 0s 117us/step - loss: 0.4540 - acc: 0.7818\n",
      "Epoch 63/100\n",
      "614/614 [==============================] - 0s 134us/step - loss: 0.4543 - acc: 0.7818\n",
      "Epoch 64/100\n",
      "614/614 [==============================] - 0s 125us/step - loss: 0.4538 - acc: 0.7834\n",
      "Epoch 65/100\n",
      "614/614 [==============================] - 0s 110us/step - loss: 0.4531 - acc: 0.7818\n",
      "Epoch 66/100\n",
      "614/614 [==============================] - 0s 115us/step - loss: 0.4537 - acc: 0.7818\n",
      "Epoch 67/100\n",
      "614/614 [==============================] - 0s 116us/step - loss: 0.4530 - acc: 0.7834\n",
      "Epoch 68/100\n",
      "614/614 [==============================] - 0s 128us/step - loss: 0.4532 - acc: 0.7834\n",
      "Epoch 69/100\n",
      "614/614 [==============================] - 0s 140us/step - loss: 0.4526 - acc: 0.7818\n",
      "Epoch 70/100\n",
      "614/614 [==============================] - 0s 115us/step - loss: 0.4525 - acc: 0.7801\n",
      "Epoch 71/100\n",
      "614/614 [==============================] - 0s 128us/step - loss: 0.4521 - acc: 0.7801\n",
      "Epoch 72/100\n",
      "614/614 [==============================] - 0s 120us/step - loss: 0.4523 - acc: 0.7818\n",
      "Epoch 73/100\n",
      "614/614 [==============================] - 0s 119us/step - loss: 0.4519 - acc: 0.7818\n",
      "Epoch 74/100\n",
      "614/614 [==============================] - 0s 116us/step - loss: 0.4519 - acc: 0.7834\n",
      "Epoch 75/100\n",
      "614/614 [==============================] - 0s 121us/step - loss: 0.4513 - acc: 0.7818\n",
      "Epoch 76/100\n",
      "614/614 [==============================] - 0s 125us/step - loss: 0.4510 - acc: 0.7769\n",
      "Epoch 77/100\n",
      "614/614 [==============================] - 0s 122us/step - loss: 0.4510 - acc: 0.7834\n",
      "Epoch 78/100\n",
      "614/614 [==============================] - 0s 109us/step - loss: 0.4507 - acc: 0.7850\n",
      "Epoch 79/100\n",
      "614/614 [==============================] - 0s 116us/step - loss: 0.4507 - acc: 0.7818\n",
      "Epoch 80/100\n",
      "614/614 [==============================] - 0s 112us/step - loss: 0.4507 - acc: 0.7850\n",
      "Epoch 81/100\n",
      "614/614 [==============================] - 0s 135us/step - loss: 0.4503 - acc: 0.7801\n",
      "Epoch 82/100\n",
      "614/614 [==============================] - 0s 115us/step - loss: 0.4507 - acc: 0.7866\n",
      "Epoch 83/100\n",
      "614/614 [==============================] - 0s 115us/step - loss: 0.4500 - acc: 0.7866\n",
      "Epoch 84/100\n",
      "614/614 [==============================] - 0s 121us/step - loss: 0.4500 - acc: 0.7818\n",
      "Epoch 85/100\n",
      "614/614 [==============================] - 0s 113us/step - loss: 0.4496 - acc: 0.7850\n",
      "Epoch 86/100\n",
      "614/614 [==============================] - 0s 125us/step - loss: 0.4494 - acc: 0.7834\n",
      "Epoch 87/100\n",
      "614/614 [==============================] - 0s 110us/step - loss: 0.4496 - acc: 0.7834\n",
      "Epoch 88/100\n",
      "614/614 [==============================] - 0s 117us/step - loss: 0.4493 - acc: 0.7834\n",
      "Epoch 89/100\n",
      "614/614 [==============================] - 0s 128us/step - loss: 0.4496 - acc: 0.7866\n",
      "Epoch 90/100\n",
      "614/614 [==============================] - 0s 120us/step - loss: 0.4496 - acc: 0.7834\n",
      "Epoch 91/100\n",
      "614/614 [==============================] - 0s 123us/step - loss: 0.4487 - acc: 0.7818\n",
      "Epoch 92/100\n",
      "614/614 [==============================] - 0s 124us/step - loss: 0.4488 - acc: 0.7866\n",
      "Epoch 93/100\n",
      "614/614 [==============================] - 0s 125us/step - loss: 0.4485 - acc: 0.7883\n",
      "Epoch 94/100\n",
      "614/614 [==============================] - 0s 116us/step - loss: 0.4481 - acc: 0.7899\n",
      "Epoch 95/100\n",
      "614/614 [==============================] - 0s 119us/step - loss: 0.4482 - acc: 0.7850\n",
      "Epoch 96/100\n",
      "614/614 [==============================] - 0s 120us/step - loss: 0.4482 - acc: 0.7834\n",
      "Epoch 97/100\n",
      "614/614 [==============================] - 0s 119us/step - loss: 0.4477 - acc: 0.7883\n",
      "Epoch 98/100\n",
      "614/614 [==============================] - 0s 120us/step - loss: 0.4472 - acc: 0.7850\n",
      "Epoch 99/100\n",
      "614/614 [==============================] - 0s 125us/step - loss: 0.4475 - acc: 0.7866\n",
      "Epoch 100/100\n",
      "614/614 [==============================] - 0s 121us/step - loss: 0.4472 - acc: 0.7850\n"
     ]
    },
    {
     "data": {
      "text/plain": [
       "<keras.callbacks.History at 0x7f836059c4e0>"
      ]
     },
     "execution_count": 12,
     "metadata": {
      "tags": []
     },
     "output_type": "execute_result"
    }
   ],
   "source": [
    "classifier.fit(x_train, y_train, batch_size = 10, epochs = 100)"
   ]
  },
  {
   "cell_type": "code",
   "execution_count": 0,
   "metadata": {
    "colab": {},
    "colab_type": "code",
    "collapsed": true,
    "id": "yYDL-w85eT9k"
   },
   "outputs": [],
   "source": [
    "y_pred = classifier.predict(x_test)\n",
    "y_pred = (y_pred > 0.5)"
   ]
  },
  {
   "cell_type": "code",
   "execution_count": 27,
   "metadata": {
    "colab": {
     "base_uri": "https://localhost:8080/",
     "height": 51
    },
    "colab_type": "code",
    "id": "j0tDF-N9enbS",
    "outputId": "c37692c5-ac8f-4fd8-8bc0-5ae17cfed58f"
   },
   "outputs": [
    {
     "data": {
      "text/plain": [
       "array([[93, 14],\n",
       "       [19, 28]])"
      ]
     },
     "execution_count": 27,
     "metadata": {
      "tags": []
     },
     "output_type": "execute_result"
    }
   ],
   "source": [
    "from sklearn.metrics import confusion_matrix\n",
    "cm = confusion_matrix(y_test, y_pred)\n",
    "cm"
   ]
  },
  {
   "cell_type": "code",
   "execution_count": 28,
   "metadata": {
    "colab": {
     "base_uri": "https://localhost:8080/",
     "height": 34
    },
    "colab_type": "code",
    "id": "0uUrRsSJergC",
    "outputId": "5eb7534a-52a8-4823-b694-e9bb96bd8ae3"
   },
   "outputs": [
    {
     "data": {
      "text/plain": [
       "0.7857142857142857"
      ]
     },
     "execution_count": 28,
     "metadata": {
      "tags": []
     },
     "output_type": "execute_result"
    }
   ],
   "source": [
    "from sklearn.metrics import accuracy_score\n",
    "acc = accuracy_score(y_test,y_pred)\n",
    "acc"
   ]
  },
  {
   "cell_type": "code",
   "execution_count": 0,
   "metadata": {
    "colab": {},
    "colab_type": "code",
    "collapsed": true,
    "id": "--QtvB3ifKPt"
   },
   "outputs": [],
   "source": []
  }
 ],
 "metadata": {
  "colab": {
   "name": "diabetes.ipynb",
   "provenance": []
  },
  "kernelspec": {
   "display_name": "Python 3",
   "language": "python",
   "name": "python3"
  },
  "language_info": {
   "codemirror_mode": {
    "name": "ipython",
    "version": 3
   },
   "file_extension": ".py",
   "mimetype": "text/x-python",
   "name": "python",
   "nbconvert_exporter": "python",
   "pygments_lexer": "ipython3",
   "version": "3.6.1"
  }
 },
 "nbformat": 4,
 "nbformat_minor": 1
}
